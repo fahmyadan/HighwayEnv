{
  "cells": [
    {
      "cell_type": "markdown",
      "metadata": {
        "id": "sepDWoBqdRMK"
      },
      "source": [
        "# Training a DQN with social attention on `intersection-v0`\n",
        "\n"
      ]
    },
    {
      "cell_type": "code",
      "execution_count": 2,
      "metadata": {
        "id": "Kx8X4s8krNWt"
      },
      "outputs": [
        {
          "name": "stdout",
          "output_type": "stream",
          "text": [
            "Requirement already satisfied: highway-env in /home/tsl/Projects/tools/simulation/RL_baselines/.venv/lib/python3.11/site-packages (1.8.2)\n",
            "Requirement already satisfied: farama-notifications in /home/tsl/Projects/tools/simulation/RL_baselines/.venv/lib/python3.11/site-packages (from highway-env) (0.0.4)\n",
            "Requirement already satisfied: gymnasium>=0.27 in /home/tsl/Projects/tools/simulation/RL_baselines/.venv/lib/python3.11/site-packages (from highway-env) (0.29.1)\n",
            "Requirement already satisfied: numpy in /home/tsl/Projects/tools/simulation/RL_baselines/.venv/lib/python3.11/site-packages (from highway-env) (1.26.4)\n",
            "Requirement already satisfied: pygame>=2.0.2 in /home/tsl/Projects/tools/simulation/RL_baselines/.venv/lib/python3.11/site-packages (from highway-env) (2.5.2)\n",
            "Requirement already satisfied: matplotlib in /home/tsl/Projects/tools/simulation/RL_baselines/.venv/lib/python3.11/site-packages (from highway-env) (3.8.3)\n",
            "Requirement already satisfied: pandas in /home/tsl/Projects/tools/simulation/RL_baselines/.venv/lib/python3.11/site-packages (from highway-env) (2.2.0)\n",
            "Requirement already satisfied: scipy in /home/tsl/Projects/tools/simulation/RL_baselines/.venv/lib/python3.11/site-packages (from highway-env) (1.12.0)\n",
            "Requirement already satisfied: cloudpickle>=1.2.0 in /home/tsl/Projects/tools/simulation/RL_baselines/.venv/lib/python3.11/site-packages (from gymnasium>=0.27->highway-env) (3.0.0)\n",
            "Requirement already satisfied: typing-extensions>=4.3.0 in /home/tsl/Projects/tools/simulation/RL_baselines/.venv/lib/python3.11/site-packages (from gymnasium>=0.27->highway-env) (4.9.0)\n",
            "Requirement already satisfied: contourpy>=1.0.1 in /home/tsl/Projects/tools/simulation/RL_baselines/.venv/lib/python3.11/site-packages (from matplotlib->highway-env) (1.2.0)\n",
            "Requirement already satisfied: cycler>=0.10 in /home/tsl/Projects/tools/simulation/RL_baselines/.venv/lib/python3.11/site-packages (from matplotlib->highway-env) (0.12.1)\n",
            "Requirement already satisfied: fonttools>=4.22.0 in /home/tsl/Projects/tools/simulation/RL_baselines/.venv/lib/python3.11/site-packages (from matplotlib->highway-env) (4.49.0)\n",
            "Requirement already satisfied: kiwisolver>=1.3.1 in /home/tsl/Projects/tools/simulation/RL_baselines/.venv/lib/python3.11/site-packages (from matplotlib->highway-env) (1.4.5)\n",
            "Requirement already satisfied: packaging>=20.0 in /home/tsl/Projects/tools/simulation/RL_baselines/.venv/lib/python3.11/site-packages (from matplotlib->highway-env) (23.2)\n",
            "Requirement already satisfied: pillow>=8 in /home/tsl/Projects/tools/simulation/RL_baselines/.venv/lib/python3.11/site-packages (from matplotlib->highway-env) (10.2.0)\n",
            "Requirement already satisfied: pyparsing>=2.3.1 in /home/tsl/Projects/tools/simulation/RL_baselines/.venv/lib/python3.11/site-packages (from matplotlib->highway-env) (3.1.1)\n",
            "Requirement already satisfied: python-dateutil>=2.7 in /home/tsl/Projects/tools/simulation/RL_baselines/.venv/lib/python3.11/site-packages (from matplotlib->highway-env) (2.8.2)\n",
            "Requirement already satisfied: pytz>=2020.1 in /home/tsl/Projects/tools/simulation/RL_baselines/.venv/lib/python3.11/site-packages (from pandas->highway-env) (2024.1)\n",
            "Requirement already satisfied: tzdata>=2022.7 in /home/tsl/Projects/tools/simulation/RL_baselines/.venv/lib/python3.11/site-packages (from pandas->highway-env) (2024.1)\n",
            "Requirement already satisfied: six>=1.5 in /home/tsl/Projects/tools/simulation/RL_baselines/.venv/lib/python3.11/site-packages (from python-dateutil>=2.7->matplotlib->highway-env) (1.16.0)\n",
            "\n",
            "\u001b[1m[\u001b[0m\u001b[34;49mnotice\u001b[0m\u001b[1;39;49m]\u001b[0m\u001b[39;49m A new release of pip is available: \u001b[0m\u001b[31;49m23.1.2\u001b[0m\u001b[39;49m -> \u001b[0m\u001b[32;49m24.0\u001b[0m\n",
            "\u001b[1m[\u001b[0m\u001b[34;49mnotice\u001b[0m\u001b[1;39;49m]\u001b[0m\u001b[39;49m To update, run: \u001b[0m\u001b[32;49mpip install --upgrade pip\u001b[0m\n",
            "Collecting rl-agents\n",
            "  Cloning https://github.com/eleurent/rl-agents to /tmp/pip-install-rr_nwa55/rl-agents_5ca26ec0a76946d8a7118c58863b0198\n",
            "  Running command git clone --filter=blob:none --quiet https://github.com/eleurent/rl-agents /tmp/pip-install-rr_nwa55/rl-agents_5ca26ec0a76946d8a7118c58863b0198\n",
            "  Resolved https://github.com/eleurent/rl-agents to commit 84df15ea977271e6a4d015f10f9f355f7e866890\n",
            "  Preparing metadata (setup.py) ... \u001b[?25ldone\n",
            "\u001b[?25hRequirement already satisfied: gymnasium in /home/tsl/Projects/tools/simulation/RL_baselines/.venv/lib/python3.11/site-packages (from rl-agents) (0.29.1)\n",
            "Requirement already satisfied: numpy in /home/tsl/Projects/tools/simulation/RL_baselines/.venv/lib/python3.11/site-packages (from rl-agents) (1.26.4)\n",
            "Requirement already satisfied: pandas in /home/tsl/Projects/tools/simulation/RL_baselines/.venv/lib/python3.11/site-packages (from rl-agents) (2.2.0)\n",
            "Requirement already satisfied: numba in /home/tsl/Projects/tools/simulation/RL_baselines/.venv/lib/python3.11/site-packages (from rl-agents) (0.59.0)\n",
            "Requirement already satisfied: pygame in /home/tsl/Projects/tools/simulation/RL_baselines/.venv/lib/python3.11/site-packages (from rl-agents) (2.5.2)\n",
            "Requirement already satisfied: matplotlib in /home/tsl/Projects/tools/simulation/RL_baselines/.venv/lib/python3.11/site-packages (from rl-agents) (3.8.3)\n",
            "Requirement already satisfied: seaborn in /home/tsl/Projects/tools/simulation/RL_baselines/.venv/lib/python3.11/site-packages (from rl-agents) (0.13.2)\n",
            "Requirement already satisfied: six in /home/tsl/Projects/tools/simulation/RL_baselines/.venv/lib/python3.11/site-packages (from rl-agents) (1.16.0)\n",
            "Requirement already satisfied: docopt in /home/tsl/Projects/tools/simulation/RL_baselines/.venv/lib/python3.11/site-packages (from rl-agents) (0.6.2)\n",
            "Requirement already satisfied: torch>=1.2.0 in /home/tsl/Projects/tools/simulation/RL_baselines/.venv/lib/python3.11/site-packages (from rl-agents) (1.13.1)\n",
            "Requirement already satisfied: tensorboardX in /home/tsl/Projects/tools/simulation/RL_baselines/.venv/lib/python3.11/site-packages (from rl-agents) (2.6.2.2)\n",
            "Requirement already satisfied: scipy in /home/tsl/Projects/tools/simulation/RL_baselines/.venv/lib/python3.11/site-packages (from rl-agents) (1.12.0)\n",
            "Requirement already satisfied: typing-extensions in /home/tsl/Projects/tools/simulation/RL_baselines/.venv/lib/python3.11/site-packages (from torch>=1.2.0->rl-agents) (4.9.0)\n",
            "Requirement already satisfied: nvidia-cuda-runtime-cu11==11.7.99 in /home/tsl/Projects/tools/simulation/RL_baselines/.venv/lib/python3.11/site-packages (from torch>=1.2.0->rl-agents) (11.7.99)\n",
            "Requirement already satisfied: nvidia-cudnn-cu11==8.5.0.96 in /home/tsl/Projects/tools/simulation/RL_baselines/.venv/lib/python3.11/site-packages (from torch>=1.2.0->rl-agents) (8.5.0.96)\n",
            "Requirement already satisfied: nvidia-cublas-cu11==11.10.3.66 in /home/tsl/Projects/tools/simulation/RL_baselines/.venv/lib/python3.11/site-packages (from torch>=1.2.0->rl-agents) (11.10.3.66)\n",
            "Requirement already satisfied: nvidia-cuda-nvrtc-cu11==11.7.99 in /home/tsl/Projects/tools/simulation/RL_baselines/.venv/lib/python3.11/site-packages (from torch>=1.2.0->rl-agents) (11.7.99)\n",
            "Requirement already satisfied: setuptools in /home/tsl/Projects/tools/simulation/RL_baselines/.venv/lib/python3.11/site-packages (from nvidia-cublas-cu11==11.10.3.66->torch>=1.2.0->rl-agents) (69.1.0)\n",
            "Requirement already satisfied: wheel in /home/tsl/Projects/tools/simulation/RL_baselines/.venv/lib/python3.11/site-packages (from nvidia-cublas-cu11==11.10.3.66->torch>=1.2.0->rl-agents) (0.42.0)\n",
            "Requirement already satisfied: cloudpickle>=1.2.0 in /home/tsl/Projects/tools/simulation/RL_baselines/.venv/lib/python3.11/site-packages (from gymnasium->rl-agents) (3.0.0)\n",
            "Requirement already satisfied: farama-notifications>=0.0.1 in /home/tsl/Projects/tools/simulation/RL_baselines/.venv/lib/python3.11/site-packages (from gymnasium->rl-agents) (0.0.4)\n",
            "Requirement already satisfied: contourpy>=1.0.1 in /home/tsl/Projects/tools/simulation/RL_baselines/.venv/lib/python3.11/site-packages (from matplotlib->rl-agents) (1.2.0)\n",
            "Requirement already satisfied: cycler>=0.10 in /home/tsl/Projects/tools/simulation/RL_baselines/.venv/lib/python3.11/site-packages (from matplotlib->rl-agents) (0.12.1)\n",
            "Requirement already satisfied: fonttools>=4.22.0 in /home/tsl/Projects/tools/simulation/RL_baselines/.venv/lib/python3.11/site-packages (from matplotlib->rl-agents) (4.49.0)\n",
            "Requirement already satisfied: kiwisolver>=1.3.1 in /home/tsl/Projects/tools/simulation/RL_baselines/.venv/lib/python3.11/site-packages (from matplotlib->rl-agents) (1.4.5)\n",
            "Requirement already satisfied: packaging>=20.0 in /home/tsl/Projects/tools/simulation/RL_baselines/.venv/lib/python3.11/site-packages (from matplotlib->rl-agents) (23.2)\n",
            "Requirement already satisfied: pillow>=8 in /home/tsl/Projects/tools/simulation/RL_baselines/.venv/lib/python3.11/site-packages (from matplotlib->rl-agents) (10.2.0)\n",
            "Requirement already satisfied: pyparsing>=2.3.1 in /home/tsl/Projects/tools/simulation/RL_baselines/.venv/lib/python3.11/site-packages (from matplotlib->rl-agents) (3.1.1)\n",
            "Requirement already satisfied: python-dateutil>=2.7 in /home/tsl/Projects/tools/simulation/RL_baselines/.venv/lib/python3.11/site-packages (from matplotlib->rl-agents) (2.8.2)\n",
            "Requirement already satisfied: llvmlite<0.43,>=0.42.0dev0 in /home/tsl/Projects/tools/simulation/RL_baselines/.venv/lib/python3.11/site-packages (from numba->rl-agents) (0.42.0)\n",
            "Requirement already satisfied: pytz>=2020.1 in /home/tsl/Projects/tools/simulation/RL_baselines/.venv/lib/python3.11/site-packages (from pandas->rl-agents) (2024.1)\n",
            "Requirement already satisfied: tzdata>=2022.7 in /home/tsl/Projects/tools/simulation/RL_baselines/.venv/lib/python3.11/site-packages (from pandas->rl-agents) (2024.1)\n",
            "Requirement already satisfied: protobuf>=3.20 in /home/tsl/Projects/tools/simulation/RL_baselines/.venv/lib/python3.11/site-packages (from tensorboardX->rl-agents) (4.25.3)\n",
            "\n",
            "\u001b[1m[\u001b[0m\u001b[34;49mnotice\u001b[0m\u001b[1;39;49m]\u001b[0m\u001b[39;49m A new release of pip is available: \u001b[0m\u001b[31;49m23.1.2\u001b[0m\u001b[39;49m -> \u001b[0m\u001b[32;49m24.0\u001b[0m\n",
            "\u001b[1m[\u001b[0m\u001b[34;49mnotice\u001b[0m\u001b[1;39;49m]\u001b[0m\u001b[39;49m To update, run: \u001b[0m\u001b[32;49mpip install --upgrade pip\u001b[0m\n",
            "Requirement already satisfied: moviepy in /home/tsl/Projects/tools/simulation/RL_baselines/.venv/lib/python3.11/site-packages (1.0.3)\n",
            "Requirement already satisfied: decorator<5.0,>=4.0.2 in /home/tsl/Projects/tools/simulation/RL_baselines/.venv/lib/python3.11/site-packages (from moviepy) (4.4.2)\n",
            "Requirement already satisfied: tqdm<5.0,>=4.11.2 in /home/tsl/Projects/tools/simulation/RL_baselines/.venv/lib/python3.11/site-packages (from moviepy) (4.66.2)\n",
            "Requirement already satisfied: requests<3.0,>=2.8.1 in /home/tsl/Projects/tools/simulation/RL_baselines/.venv/lib/python3.11/site-packages (from moviepy) (2.31.0)\n",
            "Requirement already satisfied: proglog<=1.0.0 in /home/tsl/Projects/tools/simulation/RL_baselines/.venv/lib/python3.11/site-packages (from moviepy) (0.1.10)\n",
            "Requirement already satisfied: numpy>=1.17.3 in /home/tsl/Projects/tools/simulation/RL_baselines/.venv/lib/python3.11/site-packages (from moviepy) (1.26.4)\n",
            "Requirement already satisfied: imageio<3.0,>=2.5 in /home/tsl/Projects/tools/simulation/RL_baselines/.venv/lib/python3.11/site-packages (from moviepy) (2.34.0)\n",
            "Requirement already satisfied: imageio-ffmpeg>=0.2.0 in /home/tsl/Projects/tools/simulation/RL_baselines/.venv/lib/python3.11/site-packages (from moviepy) (0.4.9)\n",
            "Requirement already satisfied: pillow>=8.3.2 in /home/tsl/Projects/tools/simulation/RL_baselines/.venv/lib/python3.11/site-packages (from imageio<3.0,>=2.5->moviepy) (10.2.0)\n",
            "Requirement already satisfied: setuptools in /home/tsl/Projects/tools/simulation/RL_baselines/.venv/lib/python3.11/site-packages (from imageio-ffmpeg>=0.2.0->moviepy) (69.1.0)\n",
            "Requirement already satisfied: charset-normalizer<4,>=2 in /home/tsl/Projects/tools/simulation/RL_baselines/.venv/lib/python3.11/site-packages (from requests<3.0,>=2.8.1->moviepy) (3.3.2)\n",
            "Requirement already satisfied: idna<4,>=2.5 in /home/tsl/Projects/tools/simulation/RL_baselines/.venv/lib/python3.11/site-packages (from requests<3.0,>=2.8.1->moviepy) (3.6)\n",
            "Requirement already satisfied: urllib3<3,>=1.21.1 in /home/tsl/Projects/tools/simulation/RL_baselines/.venv/lib/python3.11/site-packages (from requests<3.0,>=2.8.1->moviepy) (2.2.1)\n",
            "Requirement already satisfied: certifi>=2017.4.17 in /home/tsl/Projects/tools/simulation/RL_baselines/.venv/lib/python3.11/site-packages (from requests<3.0,>=2.8.1->moviepy) (2024.2.2)\n",
            "\n",
            "\u001b[1m[\u001b[0m\u001b[34;49mnotice\u001b[0m\u001b[1;39;49m]\u001b[0m\u001b[39;49m A new release of pip is available: \u001b[0m\u001b[31;49m23.1.2\u001b[0m\u001b[39;49m -> \u001b[0m\u001b[32;49m24.0\u001b[0m\n",
            "\u001b[1m[\u001b[0m\u001b[34;49mnotice\u001b[0m\u001b[1;39;49m]\u001b[0m\u001b[39;49m To update, run: \u001b[0m\u001b[32;49mpip install --upgrade pip\u001b[0m\n",
            "Requirement already satisfied: imageio_ffmpeg in /home/tsl/Projects/tools/simulation/RL_baselines/.venv/lib/python3.11/site-packages (0.4.9)\n",
            "Requirement already satisfied: setuptools in /home/tsl/Projects/tools/simulation/RL_baselines/.venv/lib/python3.11/site-packages (from imageio_ffmpeg) (69.1.0)\n",
            "\n",
            "\u001b[1m[\u001b[0m\u001b[34;49mnotice\u001b[0m\u001b[1;39;49m]\u001b[0m\u001b[39;49m A new release of pip is available: \u001b[0m\u001b[31;49m23.1.2\u001b[0m\u001b[39;49m -> \u001b[0m\u001b[32;49m24.0\u001b[0m\n",
            "\u001b[1m[\u001b[0m\u001b[34;49mnotice\u001b[0m\u001b[1;39;49m]\u001b[0m\u001b[39;49m To update, run: \u001b[0m\u001b[32;49mpip install --upgrade pip\u001b[0m\n",
            "The tensorboard extension is already loaded. To reload it, use:\n",
            "  %reload_ext tensorboard\n",
            "Requirement already satisfied: tensorboardx in /home/tsl/Projects/tools/simulation/RL_baselines/.venv/lib/python3.11/site-packages (2.6.2.2)\n",
            "Requirement already satisfied: gym in /home/tsl/Projects/tools/simulation/RL_baselines/.venv/lib/python3.11/site-packages (0.26.2)\n",
            "Requirement already satisfied: pyvirtualdisplay in /home/tsl/Projects/tools/simulation/RL_baselines/.venv/lib/python3.11/site-packages (3.0)\n",
            "Requirement already satisfied: numpy in /home/tsl/Projects/tools/simulation/RL_baselines/.venv/lib/python3.11/site-packages (from tensorboardx) (1.26.4)\n",
            "Requirement already satisfied: packaging in /home/tsl/Projects/tools/simulation/RL_baselines/.venv/lib/python3.11/site-packages (from tensorboardx) (23.2)\n",
            "Requirement already satisfied: protobuf>=3.20 in /home/tsl/Projects/tools/simulation/RL_baselines/.venv/lib/python3.11/site-packages (from tensorboardx) (4.25.3)\n",
            "Requirement already satisfied: cloudpickle>=1.2.0 in /home/tsl/Projects/tools/simulation/RL_baselines/.venv/lib/python3.11/site-packages (from gym) (3.0.0)\n",
            "Requirement already satisfied: gym-notices>=0.0.4 in /home/tsl/Projects/tools/simulation/RL_baselines/.venv/lib/python3.11/site-packages (from gym) (0.0.8)\n",
            "\n",
            "\u001b[1m[\u001b[0m\u001b[34;49mnotice\u001b[0m\u001b[1;39;49m]\u001b[0m\u001b[39;49m A new release of pip is available: \u001b[0m\u001b[31;49m23.1.2\u001b[0m\u001b[39;49m -> \u001b[0m\u001b[32;49m24.0\u001b[0m\n",
            "\u001b[1m[\u001b[0m\u001b[34;49mnotice\u001b[0m\u001b[1;39;49m]\u001b[0m\u001b[39;49m To update, run: \u001b[0m\u001b[32;49mpip install --upgrade pip\u001b[0m\n",
            "E: Could not open lock file /var/lib/dpkg/lock-frontend - open (13: Permission denied)\n",
            "E: Unable to acquire the dpkg frontend lock (/var/lib/dpkg/lock-frontend), are you root?\n"
          ]
        },
        {
          "ename": "FileNotFoundError",
          "evalue": "[Errno 2] No such file or directory: 'Xvfb'",
          "output_type": "error",
          "traceback": [
            "\u001b[0;31m---------------------------------------------------------------------------\u001b[0m",
            "\u001b[0;31mFileNotFoundError\u001b[0m                         Traceback (most recent call last)",
            "\u001b[1;32m/home/tsl/Projects/tools/simulation/RL_baselines/av_baselines/envs/HighwayEnv/scripts/intersection_social_dqn.ipynb Cell 2\u001b[0m line \u001b[0;36m1\n\u001b[1;32m     <a href='vscode-notebook-cell:/home/tsl/Projects/tools/simulation/RL_baselines/av_baselines/envs/HighwayEnv/scripts/intersection_social_dqn.ipynb#W1sZmlsZQ%3D%3D?line=16'>17</a>\u001b[0m get_ipython()\u001b[39m.\u001b[39msystem(\u001b[39m'\u001b[39m\u001b[39mgit clone https://github.com/Farama-Foundation/HighwayEnv.git 2> /dev/null\u001b[39m\u001b[39m'\u001b[39m)\n\u001b[1;32m     <a href='vscode-notebook-cell:/home/tsl/Projects/tools/simulation/RL_baselines/av_baselines/envs/HighwayEnv/scripts/intersection_social_dqn.ipynb#W1sZmlsZQ%3D%3D?line=17'>18</a>\u001b[0m sys\u001b[39m.\u001b[39mpath\u001b[39m.\u001b[39minsert(\u001b[39m0\u001b[39m, \u001b[39m'\u001b[39m\u001b[39m/content/HighwayEnv/scripts/\u001b[39m\u001b[39m'\u001b[39m)\n\u001b[0;32m---> <a href='vscode-notebook-cell:/home/tsl/Projects/tools/simulation/RL_baselines/av_baselines/envs/HighwayEnv/scripts/intersection_social_dqn.ipynb#W1sZmlsZQ%3D%3D?line=18'>19</a>\u001b[0m \u001b[39mfrom\u001b[39;00m \u001b[39mutils\u001b[39;00m \u001b[39mimport\u001b[39;00m show_videos\n",
            "File \u001b[0;32m~/Projects/tools/simulation/RL_baselines/av_baselines/envs/HighwayEnv/scripts/utils.py:8\u001b[0m\n\u001b[1;32m      5\u001b[0m \u001b[39mfrom\u001b[39;00m \u001b[39mIPython\u001b[39;00m \u001b[39mimport\u001b[39;00m display \u001b[39mas\u001b[39;00m ipythondisplay\n\u001b[1;32m      6\u001b[0m \u001b[39mfrom\u001b[39;00m \u001b[39mpyvirtualdisplay\u001b[39;00m \u001b[39mimport\u001b[39;00m Display\n\u001b[0;32m----> 8\u001b[0m display \u001b[39m=\u001b[39m Display(visible\u001b[39m=\u001b[39;49m\u001b[39m0\u001b[39;49m, size\u001b[39m=\u001b[39;49m(\u001b[39m1400\u001b[39;49m, \u001b[39m900\u001b[39;49m))\n\u001b[1;32m      9\u001b[0m display\u001b[39m.\u001b[39mstart()\n\u001b[1;32m     12\u001b[0m \u001b[39mdef\u001b[39;00m \u001b[39mrecord_videos\u001b[39m(env, video_folder\u001b[39m=\u001b[39m\u001b[39m\"\u001b[39m\u001b[39mvideos\u001b[39m\u001b[39m\"\u001b[39m):\n",
            "File \u001b[0;32m~/Projects/tools/simulation/RL_baselines/.venv/lib/python3.11/site-packages/pyvirtualdisplay/display.py:54\u001b[0m, in \u001b[0;36mDisplay.__init__\u001b[0;34m(self, backend, visible, size, color_depth, bgcolor, use_xauth, retries, extra_args, manage_global_env, **kwargs)\u001b[0m\n\u001b[1;32m     51\u001b[0m \u001b[39mif\u001b[39;00m \u001b[39mnot\u001b[39;00m \u001b[39mcls\u001b[39m:\n\u001b[1;32m     52\u001b[0m     \u001b[39mraise\u001b[39;00m \u001b[39mValueError\u001b[39;00m(\u001b[39m\"\u001b[39m\u001b[39munknown backend: \u001b[39m\u001b[39m%s\u001b[39;00m\u001b[39m\"\u001b[39m \u001b[39m%\u001b[39m \u001b[39mself\u001b[39m\u001b[39m.\u001b[39m_backend)\n\u001b[0;32m---> 54\u001b[0m \u001b[39mself\u001b[39m\u001b[39m.\u001b[39m_obj \u001b[39m=\u001b[39m \u001b[39mcls\u001b[39;49m(\n\u001b[1;32m     55\u001b[0m     size\u001b[39m=\u001b[39;49msize,\n\u001b[1;32m     56\u001b[0m     color_depth\u001b[39m=\u001b[39;49mcolor_depth,\n\u001b[1;32m     57\u001b[0m     bgcolor\u001b[39m=\u001b[39;49mbgcolor,\n\u001b[1;32m     58\u001b[0m     retries\u001b[39m=\u001b[39;49mretries,\n\u001b[1;32m     59\u001b[0m     use_xauth\u001b[39m=\u001b[39;49muse_xauth,\n\u001b[1;32m     60\u001b[0m     \u001b[39m# check_startup=check_startup,\u001b[39;49;00m\n\u001b[1;32m     61\u001b[0m     extra_args\u001b[39m=\u001b[39;49mextra_args,\n\u001b[1;32m     62\u001b[0m     manage_global_env\u001b[39m=\u001b[39;49mmanage_global_env,\n\u001b[1;32m     63\u001b[0m     \u001b[39m*\u001b[39;49m\u001b[39m*\u001b[39;49mkwargs\n\u001b[1;32m     64\u001b[0m )\n",
            "File \u001b[0;32m~/Projects/tools/simulation/RL_baselines/.venv/lib/python3.11/site-packages/pyvirtualdisplay/xvfb.py:44\u001b[0m, in \u001b[0;36mXvfbDisplay.__init__\u001b[0;34m(self, size, color_depth, bgcolor, use_xauth, fbdir, dpi, retries, extra_args, manage_global_env)\u001b[0m\n\u001b[1;32m     41\u001b[0m \u001b[39mself\u001b[39m\u001b[39m.\u001b[39m_fbdir \u001b[39m=\u001b[39m fbdir\n\u001b[1;32m     42\u001b[0m \u001b[39mself\u001b[39m\u001b[39m.\u001b[39m_dpi \u001b[39m=\u001b[39m dpi\n\u001b[0;32m---> 44\u001b[0m AbstractDisplay\u001b[39m.\u001b[39;49m\u001b[39m__init__\u001b[39;49m(\n\u001b[1;32m     45\u001b[0m     \u001b[39mself\u001b[39;49m,\n\u001b[1;32m     46\u001b[0m     PROGRAM,\n\u001b[1;32m     47\u001b[0m     use_xauth\u001b[39m=\u001b[39;49muse_xauth,\n\u001b[1;32m     48\u001b[0m     retries\u001b[39m=\u001b[39;49mretries,\n\u001b[1;32m     49\u001b[0m     extra_args\u001b[39m=\u001b[39;49mextra_args,\n\u001b[1;32m     50\u001b[0m     manage_global_env\u001b[39m=\u001b[39;49mmanage_global_env,\n\u001b[1;32m     51\u001b[0m )\n",
            "File \u001b[0;32m~/Projects/tools/simulation/RL_baselines/.venv/lib/python3.11/site-packages/pyvirtualdisplay/abstractdisplay.py:85\u001b[0m, in \u001b[0;36mAbstractDisplay.__init__\u001b[0;34m(self, program, use_xauth, retries, extra_args, manage_global_env)\u001b[0m\n\u001b[1;32m     82\u001b[0m \u001b[39mself\u001b[39m\u001b[39m.\u001b[39m_pipe_wfd \u001b[39m=\u001b[39m \u001b[39mNone\u001b[39;00m\n\u001b[1;32m     83\u001b[0m \u001b[39mself\u001b[39m\u001b[39m.\u001b[39m_retries_current \u001b[39m=\u001b[39m \u001b[39m0\u001b[39m\n\u001b[0;32m---> 85\u001b[0m helptext \u001b[39m=\u001b[39m get_helptext(program)\n\u001b[1;32m     86\u001b[0m \u001b[39mself\u001b[39m\u001b[39m.\u001b[39m_has_displayfd \u001b[39m=\u001b[39m \u001b[39m\"\u001b[39m\u001b[39m-displayfd\u001b[39m\u001b[39m\"\u001b[39m \u001b[39min\u001b[39;00m helptext\n\u001b[1;32m     87\u001b[0m \u001b[39mif\u001b[39;00m \u001b[39mnot\u001b[39;00m \u001b[39mself\u001b[39m\u001b[39m.\u001b[39m_has_displayfd:\n",
            "File \u001b[0;32m~/Projects/tools/simulation/RL_baselines/.venv/lib/python3.11/site-packages/pyvirtualdisplay/util.py:13\u001b[0m, in \u001b[0;36mget_helptext\u001b[0;34m(program)\u001b[0m\n\u001b[1;32m      6\u001b[0m cmd \u001b[39m=\u001b[39m [program, \u001b[39m\"\u001b[39m\u001b[39m-help\u001b[39m\u001b[39m\"\u001b[39m]\n\u001b[1;32m      8\u001b[0m \u001b[39m# py3.7+\u001b[39;00m\n\u001b[1;32m      9\u001b[0m \u001b[39m# p = subprocess.run(cmd, capture_output=True)\u001b[39;00m\n\u001b[1;32m     10\u001b[0m \u001b[39m# stderr = p.stderr\u001b[39;00m\n\u001b[1;32m     11\u001b[0m \n\u001b[1;32m     12\u001b[0m \u001b[39m# py3.6 also\u001b[39;00m\n\u001b[0;32m---> 13\u001b[0m p \u001b[39m=\u001b[39m subprocess\u001b[39m.\u001b[39;49mPopen(\n\u001b[1;32m     14\u001b[0m     cmd,\n\u001b[1;32m     15\u001b[0m     stdout\u001b[39m=\u001b[39;49msubprocess\u001b[39m.\u001b[39;49mPIPE,\n\u001b[1;32m     16\u001b[0m     stderr\u001b[39m=\u001b[39;49msubprocess\u001b[39m.\u001b[39;49mPIPE,\n\u001b[1;32m     17\u001b[0m     shell\u001b[39m=\u001b[39;49m\u001b[39mFalse\u001b[39;49;00m,\n\u001b[1;32m     18\u001b[0m )\n\u001b[1;32m     19\u001b[0m _, stderr \u001b[39m=\u001b[39m p\u001b[39m.\u001b[39mcommunicate()\n\u001b[1;32m     21\u001b[0m helptext \u001b[39m=\u001b[39m stderr\u001b[39m.\u001b[39mdecode(\u001b[39m\"\u001b[39m\u001b[39mutf-8\u001b[39m\u001b[39m\"\u001b[39m, \u001b[39m\"\u001b[39m\u001b[39mignore\u001b[39m\u001b[39m\"\u001b[39m)\n",
            "File \u001b[0;32m~/miniconda3/lib/python3.11/subprocess.py:1026\u001b[0m, in \u001b[0;36mPopen.__init__\u001b[0;34m(self, args, bufsize, executable, stdin, stdout, stderr, preexec_fn, close_fds, shell, cwd, env, universal_newlines, startupinfo, creationflags, restore_signals, start_new_session, pass_fds, user, group, extra_groups, encoding, errors, text, umask, pipesize, process_group)\u001b[0m\n\u001b[1;32m   1022\u001b[0m         \u001b[39mif\u001b[39;00m \u001b[39mself\u001b[39m\u001b[39m.\u001b[39mtext_mode:\n\u001b[1;32m   1023\u001b[0m             \u001b[39mself\u001b[39m\u001b[39m.\u001b[39mstderr \u001b[39m=\u001b[39m io\u001b[39m.\u001b[39mTextIOWrapper(\u001b[39mself\u001b[39m\u001b[39m.\u001b[39mstderr,\n\u001b[1;32m   1024\u001b[0m                     encoding\u001b[39m=\u001b[39mencoding, errors\u001b[39m=\u001b[39merrors)\n\u001b[0;32m-> 1026\u001b[0m     \u001b[39mself\u001b[39;49m\u001b[39m.\u001b[39;49m_execute_child(args, executable, preexec_fn, close_fds,\n\u001b[1;32m   1027\u001b[0m                         pass_fds, cwd, env,\n\u001b[1;32m   1028\u001b[0m                         startupinfo, creationflags, shell,\n\u001b[1;32m   1029\u001b[0m                         p2cread, p2cwrite,\n\u001b[1;32m   1030\u001b[0m                         c2pread, c2pwrite,\n\u001b[1;32m   1031\u001b[0m                         errread, errwrite,\n\u001b[1;32m   1032\u001b[0m                         restore_signals,\n\u001b[1;32m   1033\u001b[0m                         gid, gids, uid, umask,\n\u001b[1;32m   1034\u001b[0m                         start_new_session, process_group)\n\u001b[1;32m   1035\u001b[0m \u001b[39mexcept\u001b[39;00m:\n\u001b[1;32m   1036\u001b[0m     \u001b[39m# Cleanup if the child failed starting.\u001b[39;00m\n\u001b[1;32m   1037\u001b[0m     \u001b[39mfor\u001b[39;00m f \u001b[39min\u001b[39;00m \u001b[39mfilter\u001b[39m(\u001b[39mNone\u001b[39;00m, (\u001b[39mself\u001b[39m\u001b[39m.\u001b[39mstdin, \u001b[39mself\u001b[39m\u001b[39m.\u001b[39mstdout, \u001b[39mself\u001b[39m\u001b[39m.\u001b[39mstderr)):\n",
            "File \u001b[0;32m~/miniconda3/lib/python3.11/subprocess.py:1950\u001b[0m, in \u001b[0;36mPopen._execute_child\u001b[0;34m(self, args, executable, preexec_fn, close_fds, pass_fds, cwd, env, startupinfo, creationflags, shell, p2cread, p2cwrite, c2pread, c2pwrite, errread, errwrite, restore_signals, gid, gids, uid, umask, start_new_session, process_group)\u001b[0m\n\u001b[1;32m   1948\u001b[0m     \u001b[39mif\u001b[39;00m errno_num \u001b[39m!=\u001b[39m \u001b[39m0\u001b[39m:\n\u001b[1;32m   1949\u001b[0m         err_msg \u001b[39m=\u001b[39m os\u001b[39m.\u001b[39mstrerror(errno_num)\n\u001b[0;32m-> 1950\u001b[0m     \u001b[39mraise\u001b[39;00m child_exception_type(errno_num, err_msg, err_filename)\n\u001b[1;32m   1951\u001b[0m \u001b[39mraise\u001b[39;00m child_exception_type(err_msg)\n",
            "\u001b[0;31mFileNotFoundError\u001b[0m: [Errno 2] No such file or directory: 'Xvfb'"
          ]
        }
      ],
      "source": [
        "#@title Import requirements\n",
        "\n",
        "# Environment\n",
        "!pip install highway-env\n",
        "import gymnasium as gym\n",
        "\n",
        "# Agent\n",
        "!pip install git+https://github.com/eleurent/rl-agents#egg=rl-agents\n",
        "\n",
        "# Visualisation utils\n",
        "!pip install moviepy\n",
        "!pip install imageio_ffmpeg\n",
        "import sys\n",
        "%load_ext tensorboard\n",
        "!pip install tensorboardx gym pyvirtualdisplay\n",
        "!apt-get install -y xvfb ffmpeg\n",
        "!git clone https://github.com/Farama-Foundation/HighwayEnv.git 2> /dev/null\n",
        "sys.path.insert(0, '/content/HighwayEnv/scripts/')\n",
        "from utils import show_videos"
      ]
    },
    {
      "cell_type": "markdown",
      "metadata": {
        "id": "vvOEW00pdHrG"
      },
      "source": [
        "## Training\n",
        "\n",
        "We use a policy architecture based on social attention, see [[Leurent and Mercat, 2019]](https://arxiv.org/abs/1911.12250).\n"
      ]
    },
    {
      "cell_type": "code",
      "execution_count": 3,
      "metadata": {
        "id": "QowKW3ix45ZW"
      },
      "outputs": [
        {
          "name": "stderr",
          "output_type": "stream",
          "text": [
            "/home/tsl/Projects/tools/simulation/RL_baselines/.venv/lib/python3.11/site-packages/tqdm/auto.py:21: TqdmWarning: IProgress not found. Please update jupyter and ipywidgets. See https://ipywidgets.readthedocs.io/en/stable/user_install.html\n",
            "  from .autonotebook import tqdm as notebook_tqdm\n"
          ]
        },
        {
          "name": "stdout",
          "output_type": "stream",
          "text": [
            "[Errno 2] No such file or directory: '/content/rl-agents/scripts/'\n",
            "/home/tsl/Projects/tools/simulation/RL_baselines/av_baselines/envs/HighwayEnv/scripts\n"
          ]
        },
        {
          "name": "stderr",
          "output_type": "stream",
          "text": [
            "/home/tsl/Projects/tools/simulation/RL_baselines/.venv/lib/python3.11/site-packages/IPython/core/magics/osm.py:393: UserWarning: This is now an optional IPython functionality, using bookmarks requires you to install the `pickleshare` library.\n",
            "  bkms = self.shell.db.get('bookmarks', {})\n"
          ]
        },
        {
          "ename": "FileNotFoundError",
          "evalue": "[Errno 2] No such file or directory: 'configs/IntersectionEnv/env.json'",
          "output_type": "error",
          "traceback": [
            "\u001b[0;31m---------------------------------------------------------------------------\u001b[0m",
            "\u001b[0;31mFileNotFoundError\u001b[0m                         Traceback (most recent call last)",
            "\u001b[1;32m/home/tsl/Projects/tools/simulation/RL_baselines/av_baselines/envs/HighwayEnv/scripts/intersection_social_dqn.ipynb Cell 4\u001b[0m line \u001b[0;36m1\n\u001b[1;32m     <a href='vscode-notebook-cell:/home/tsl/Projects/tools/simulation/RL_baselines/av_baselines/envs/HighwayEnv/scripts/intersection_social_dqn.ipynb#W3sZmlsZQ%3D%3D?line=10'>11</a>\u001b[0m env_config \u001b[39m=\u001b[39m \u001b[39m'\u001b[39m\u001b[39mconfigs/IntersectionEnv/env.json\u001b[39m\u001b[39m'\u001b[39m\n\u001b[1;32m     <a href='vscode-notebook-cell:/home/tsl/Projects/tools/simulation/RL_baselines/av_baselines/envs/HighwayEnv/scripts/intersection_social_dqn.ipynb#W3sZmlsZQ%3D%3D?line=11'>12</a>\u001b[0m agent_config \u001b[39m=\u001b[39m \u001b[39m'\u001b[39m\u001b[39mconfigs/IntersectionEnv/agents/DQNAgent/ego_attention_2h.json\u001b[39m\u001b[39m'\u001b[39m\n\u001b[0;32m---> <a href='vscode-notebook-cell:/home/tsl/Projects/tools/simulation/RL_baselines/av_baselines/envs/HighwayEnv/scripts/intersection_social_dqn.ipynb#W3sZmlsZQ%3D%3D?line=13'>14</a>\u001b[0m env \u001b[39m=\u001b[39m load_environment(env_config)\n\u001b[1;32m     <a href='vscode-notebook-cell:/home/tsl/Projects/tools/simulation/RL_baselines/av_baselines/envs/HighwayEnv/scripts/intersection_social_dqn.ipynb#W3sZmlsZQ%3D%3D?line=14'>15</a>\u001b[0m agent \u001b[39m=\u001b[39m load_agent(agent_config, env)\n\u001b[1;32m     <a href='vscode-notebook-cell:/home/tsl/Projects/tools/simulation/RL_baselines/av_baselines/envs/HighwayEnv/scripts/intersection_social_dqn.ipynb#W3sZmlsZQ%3D%3D?line=15'>16</a>\u001b[0m evaluation \u001b[39m=\u001b[39m Evaluation(env, agent, num_episodes\u001b[39m=\u001b[39mNUM_EPISODES, display_env\u001b[39m=\u001b[39m\u001b[39mFalse\u001b[39;00m, display_agent\u001b[39m=\u001b[39m\u001b[39mFalse\u001b[39;00m)\n",
            "File \u001b[0;32m~/Projects/tools/simulation/RL_baselines/.venv/lib/python3.11/site-packages/rl_agents/agents/common/factory.py:68\u001b[0m, in \u001b[0;36mload_environment\u001b[0;34m(env_config)\u001b[0m\n\u001b[1;32m     66\u001b[0m \u001b[39m# Load the environment config from file\u001b[39;00m\n\u001b[1;32m     67\u001b[0m \u001b[39mif\u001b[39;00m \u001b[39mnot\u001b[39;00m \u001b[39misinstance\u001b[39m(env_config, \u001b[39mdict\u001b[39m):\n\u001b[0;32m---> 68\u001b[0m     \u001b[39mwith\u001b[39;00m \u001b[39mopen\u001b[39;49m(env_config) \u001b[39mas\u001b[39;00m f:\n\u001b[1;32m     69\u001b[0m         env_config \u001b[39m=\u001b[39m json\u001b[39m.\u001b[39mloads(f\u001b[39m.\u001b[39mread())\n\u001b[1;32m     71\u001b[0m \u001b[39m# Make the environment\u001b[39;00m\n",
            "\u001b[0;31mFileNotFoundError\u001b[0m: [Errno 2] No such file or directory: 'configs/IntersectionEnv/env.json'"
          ]
        }
      ],
      "source": [
        "#@title Prepare environment, agent, and evaluation process.\n",
        "\n",
        "NUM_EPISODES = 3000  #@param {type: \"integer\"}\n",
        "\n",
        "from rl_agents.trainer.evaluation import Evaluation\n",
        "from rl_agents.agents.common.factory import load_agent, load_environment\n",
        "\n",
        "# Get the environment and agent configurations from the rl-agents repository\n",
        "!git clone https://github.com/eleurent/rl-agents.git 2> /dev/null\n",
        "%cd /content/rl-agents/scripts/\n",
        "env_config = 'configs/IntersectionEnv/env.json'\n",
        "agent_config = 'configs/IntersectionEnv/agents/DQNAgent/ego_attention_2h.json'\n",
        "\n",
        "env = load_environment(env_config)\n",
        "agent = load_agent(agent_config, env)\n",
        "evaluation = Evaluation(env, agent, num_episodes=NUM_EPISODES, display_env=False, display_agent=False)\n",
        "print(f\"Ready to train {agent} on {env}\")"
      ]
    },
    {
      "cell_type": "markdown",
      "metadata": {
        "id": "nqnGqW6jd1xN"
      },
      "source": [
        "Run tensorboard locally to visualize training."
      ]
    },
    {
      "cell_type": "code",
      "execution_count": null,
      "metadata": {
        "id": "q7QJY2wc4_1N"
      },
      "outputs": [],
      "source": [
        "%tensorboard --logdir \"{evaluation.directory}\""
      ]
    },
    {
      "cell_type": "markdown",
      "metadata": {
        "id": "BtK9dtfb0JMF"
      },
      "source": [
        "Start training. This should take about an hour."
      ]
    },
    {
      "cell_type": "code",
      "execution_count": null,
      "metadata": {
        "id": "sFVq1gFz42Eg"
      },
      "outputs": [],
      "source": [
        "evaluation.train()"
      ]
    },
    {
      "cell_type": "markdown",
      "metadata": {
        "id": "-lNvWg42RWiw"
      },
      "source": [
        "Progress can be visualised in the tensorboard cell above, which should update every 30s (or manually). You may need to click the *Fit domain to data* buttons below each graph."
      ]
    },
    {
      "cell_type": "markdown",
      "metadata": {
        "id": "VKfvu5uhzCIU"
      },
      "source": [
        "## Testing"
      ]
    },
    {
      "cell_type": "code",
      "execution_count": null,
      "metadata": {
        "id": "gY0rpVYUtRpN"
      },
      "outputs": [],
      "source": [
        "#@title Run the learned policy for a few episodes.\n",
        "env = load_environment(env_config)\n",
        "env.config[\"offscreen_rendering\"] = True\n",
        "agent = load_agent(agent_config, env)\n",
        "evaluation = Evaluation(env, agent, num_episodes=1)\n",
        "evaluation.train()\n",
        "show_videos(evaluation.run_directory)"
      ]
    }
  ],
  "metadata": {
    "accelerator": "GPU",
    "colab": {
      "name": "SocialAttentionDQN",
      "provenance": []
    },
    "kernelspec": {
      "display_name": "Python 3",
      "language": "python",
      "name": "python3"
    },
    "language_info": {
      "codemirror_mode": {
        "name": "ipython",
        "version": 3
      },
      "file_extension": ".py",
      "mimetype": "text/x-python",
      "name": "python",
      "nbconvert_exporter": "python",
      "pygments_lexer": "ipython3",
      "version": "3.11.4"
    },
    "pycharm": {
      "stem_cell": {
        "cell_type": "raw",
        "metadata": {
          "collapsed": false
        },
        "source": []
      }
    }
  },
  "nbformat": 4,
  "nbformat_minor": 0
}
